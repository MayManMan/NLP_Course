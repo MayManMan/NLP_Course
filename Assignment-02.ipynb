{
 "cells": [
  {
   "cell_type": "markdown",
   "metadata": {},
   "source": [
    "## Assignments for Week-02"
   ]
  },
  {
   "cell_type": "markdown",
   "metadata": {},
   "source": [
    "In this course, we learnt what's the search problem and what's the machine leanring. In this assignment, we need you do some more practice."
   ]
  },
  {
   "cell_type": "markdown",
   "metadata": {},
   "source": [
    "### 1. Re-code the house price machine learning\n",
    "\n",
    "###### 1. Random Choose Method to get optimal *k* and *b*\n",
    "###### 2.Supervised Direction to get optimal *k* and *b*\n",
    "###### 3.Gradient Descent to get optimal *k* and *b*\n",
    "###### 4. Try different Loss function and learning rate. \n",
    "\n",
    "For example, you can change the loss function: $Loss = \\frac{1}{n} sum({y_i - \\hat{y_i}})^2$ to $Loss = \\frac{1}{n} sum(|{y_i - \\hat{y_i}}|)$\n",
    "\n",
    "And you can change the learning rate and observe the performance."
   ]
  },
  {
   "cell_type": "code",
   "execution_count": 1,
   "metadata": {},
   "outputs": [],
   "source": [
    "import random\n",
    "from sklearn.datasets import load_boston\n",
    "data = load_boston()\n",
    "X, y = data['data'], data['target']\n",
    "X_rm = X[:, 5]"
   ]
  },
  {
   "cell_type": "markdown",
   "metadata": {},
   "source": [
    "# 1 Random Choose Method to get optimal k and b"
   ]
  },
  {
   "cell_type": "code",
   "execution_count": 2,
   "metadata": {},
   "outputs": [
    {
     "name": "stdout",
     "output_type": "stream",
     "text": [
      "When time is : 0, get best_k is : 82.22395101066539, best_b : -55.9463269026784, and the min loss is 194757.08020193691\n",
      "When time is : 1, get best_k is : -71.3276621342853, best_b : 92.99963954863512, and the min loss is 145964.75216457483\n",
      "When time is : 2, get best_k is : 66.2044050413599, best_b : -84.20640917464488, and the min loss is 97335.94967148518\n",
      "When time is : 3, get best_k is : 3.9334416008000517, best_b : -47.08494458515151, and the min loss is 2072.5492400953012\n",
      "When time is : 19, get best_k is : 1.618046642434507, best_b : -29.937304555620827, and the min loss is 1860.5952279777862\n",
      "When time is : 34, get best_k is : -2.297551903680528, best_b : 23.125085618636803, and the min loss is 299.3666667645134\n",
      "When time is : 73, get best_k is : 18.588192794577708, best_b : -87.5728660089674, and the min loss is 133.01825551942454\n",
      "When time is : 228, get best_k is : 8.820365081168433, best_b : -30.062981439740824, and the min loss is 51.68812822805853\n"
     ]
    }
   ],
   "source": [
    "def price(r, k, b):\n",
    "    return k * r + b\n",
    "def loss(y, y_hat):\n",
    "    return sum((y_i - y_hat_i)**2 for y_i, y_hat_i in zip(list(y), list(y_hat))) / len(list(y))\n",
    "\n",
    "min_loss = float('inf')\n",
    "best_k, best_b = None, None\n",
    "\n",
    "for i in range(300):\n",
    "    k = random.random() * 200 - 100\n",
    "    b = random.random() * 200 - 100\n",
    "    y_hat = [price(r, k, b) for r in X_rm]\n",
    "\n",
    "    current_loss = loss(y, y_hat)\n",
    "    \n",
    "    if current_loss < min_loss:\n",
    "        min_loss = current_loss\n",
    "        best_k, best_b = k, b\n",
    "        print(\"When time is : {}, get best_k is : {}, best_b : {}, and the min loss is {}\".format(i, best_k, best_b, min_loss))  "
   ]
  },
  {
   "cell_type": "markdown",
   "metadata": {},
   "source": [
    "# 2 Supervised Direction to get optimal k and b"
   ]
  },
  {
   "cell_type": "code",
   "execution_count": 3,
   "metadata": {},
   "outputs": [
    {
     "name": "stdout",
     "output_type": "stream",
     "text": [
      "When time is : 0, get best_k: -78.58319136954732 best_b: 47.89354386352791, and the loss is: 223329.56034588782\n",
      "When time is : 1, get best_k: -78.38319136954732 best_b: 48.09354386352791, and the loss is: 221949.26419393483\n",
      "When time is : 2, get best_k: -78.18319136954732 best_b: 48.293543863527916, and the loss is: 220573.25272945157\n",
      "When time is : 3, get best_k: -77.98319136954731 best_b: 48.49354386352792, and the loss is: 219201.52595243847\n",
      "When time is : 4, get best_k: -77.78319136954731 best_b: 48.69354386352792, and the loss is: 217834.08386289488\n",
      "When time is : 5, get best_k: -77.58319136954731 best_b: 48.893543863527924, and the loss is: 216470.92646082147\n",
      "When time is : 6, get best_k: -77.3831913695473 best_b: 49.09354386352793, and the loss is: 215112.05374621777\n",
      "When time is : 7, get best_k: -77.1831913695473 best_b: 49.29354386352793, and the loss is: 213757.46571908417\n",
      "When time is : 8, get best_k: -76.9831913695473 best_b: 49.49354386352793, and the loss is: 212407.16237942007\n",
      "When time is : 9, get best_k: -76.7831913695473 best_b: 49.693543863527935, and the loss is: 211061.14372722624\n",
      "When time is : 10, get best_k: -76.5831913695473 best_b: 49.89354386352794, and the loss is: 209719.40976250204\n",
      "When time is : 11, get best_k: -76.38319136954729 best_b: 50.09354386352794, and the loss is: 208381.96048524763\n",
      "When time is : 12, get best_k: -76.18319136954729 best_b: 50.293543863527944, and the loss is: 207048.79589546335\n",
      "When time is : 13, get best_k: -75.98319136954728 best_b: 50.49354386352795, and the loss is: 205719.9159931488\n",
      "When time is : 14, get best_k: -75.78319136954728 best_b: 50.69354386352795, and the loss is: 204395.32077830422\n",
      "When time is : 15, get best_k: -75.58319136954728 best_b: 50.89354386352795, and the loss is: 203075.01025092957\n",
      "When time is : 16, get best_k: -75.38319136954728 best_b: 51.093543863527955, and the loss is: 201758.98441102504\n",
      "When time is : 17, get best_k: -75.18319136954727 best_b: 51.29354386352796, and the loss is: 200447.24325858973\n",
      "When time is : 18, get best_k: -74.98319136954727 best_b: 51.49354386352796, and the loss is: 199139.78679362475\n",
      "When time is : 19, get best_k: -74.78319136954727 best_b: 51.693543863527964, and the loss is: 197836.61501612965\n",
      "When time is : 20, get best_k: -74.58319136954727 best_b: 51.89354386352797, and the loss is: 196537.72792610413\n",
      "When time is : 21, get best_k: -74.38319136954726 best_b: 52.09354386352797, and the loss is: 195243.12552354904\n",
      "When time is : 22, get best_k: -74.18319136954726 best_b: 52.29354386352797, and the loss is: 193952.80780846317\n",
      "When time is : 23, get best_k: -73.98319136954726 best_b: 52.493543863527975, and the loss is: 192666.77478084757\n",
      "When time is : 24, get best_k: -73.78319136954725 best_b: 52.69354386352798, and the loss is: 191385.02644070183\n",
      "When time is : 25, get best_k: -73.58319136954725 best_b: 52.89354386352798, and the loss is: 190107.56278802615\n",
      "When time is : 26, get best_k: -73.38319136954725 best_b: 53.093543863527984, and the loss is: 188834.38382281986\n",
      "When time is : 27, get best_k: -73.18319136954725 best_b: 53.29354386352799, and the loss is: 187565.48954508392\n",
      "When time is : 28, get best_k: -72.98319136954724 best_b: 53.49354386352799, and the loss is: 186300.8799548176\n",
      "When time is : 29, get best_k: -72.78319136954724 best_b: 53.69354386352799, and the loss is: 185040.55505202117\n",
      "When time is : 30, get best_k: -72.58319136954724 best_b: 53.893543863527995, and the loss is: 183784.51483669475\n",
      "When time is : 31, get best_k: -72.38319136954723 best_b: 54.093543863528, and the loss is: 182532.759308838\n",
      "When time is : 32, get best_k: -72.18319136954723 best_b: 54.293543863528, and the loss is: 181285.28846845127\n",
      "When time is : 33, get best_k: -71.98319136954723 best_b: 54.493543863528004, and the loss is: 180042.10231553458\n",
      "When time is : 34, get best_k: -71.78319136954723 best_b: 54.69354386352801, and the loss is: 178803.20085008748\n",
      "When time is : 35, get best_k: -71.58319136954722 best_b: 54.89354386352801, and the loss is: 177568.58407211042\n",
      "When time is : 36, get best_k: -71.38319136954722 best_b: 55.09354386352801, and the loss is: 176338.2519816032\n",
      "When time is : 37, get best_k: -71.18319136954722 best_b: 55.293543863528015, and the loss is: 175112.20457856602\n",
      "When time is : 38, get best_k: -70.98319136954721 best_b: 55.49354386352802, and the loss is: 173890.44186299844\n",
      "When time is : 39, get best_k: -70.78319136954721 best_b: 55.69354386352802, and the loss is: 172672.96383490122\n",
      "When time is : 40, get best_k: -70.58319136954721 best_b: 55.89354386352802, and the loss is: 171459.77049427328\n",
      "When time is : 41, get best_k: -70.3831913695472 best_b: 56.093543863528026, and the loss is: 170250.86184111546\n",
      "When time is : 42, get best_k: -70.1831913695472 best_b: 56.29354386352803, and the loss is: 169046.23787542764\n",
      "When time is : 43, get best_k: -69.9831913695472 best_b: 56.49354386352803, and the loss is: 167845.89859720945\n",
      "When time is : 44, get best_k: -69.7831913695472 best_b: 56.693543863528035, and the loss is: 166649.8440064614\n",
      "When time is : 45, get best_k: -69.5831913695472 best_b: 56.89354386352804, and the loss is: 165458.074103183\n",
      "When time is : 46, get best_k: -69.38319136954719 best_b: 57.09354386352804, and the loss is: 164270.58888737473\n",
      "When time is : 47, get best_k: -69.18319136954719 best_b: 57.29354386352804, and the loss is: 163087.38835903627\n",
      "When time is : 48, get best_k: -68.98319136954719 best_b: 57.493543863528046, and the loss is: 161908.47251816752\n",
      "When time is : 49, get best_k: -68.78319136954718 best_b: 57.69354386352805, and the loss is: 160733.84136476883\n",
      "When time is : 50, get best_k: -68.58319136954718 best_b: 57.89354386352805, and the loss is: 159563.49489884003\n",
      "When time is : 51, get best_k: -68.38319136954718 best_b: 58.093543863528055, and the loss is: 158397.43312038106\n",
      "When time is : 52, get best_k: -68.18319136954717 best_b: 58.29354386352806, and the loss is: 157235.6560293921\n",
      "When time is : 53, get best_k: -67.98319136954717 best_b: 58.49354386352806, and the loss is: 156078.16362587266\n",
      "When time is : 54, get best_k: -67.78319136954717 best_b: 58.69354386352806, and the loss is: 154924.95590982324\n",
      "When time is : 55, get best_k: -67.58319136954717 best_b: 58.893543863528066, and the loss is: 153776.03288124388\n",
      "When time is : 56, get best_k: -67.38319136954716 best_b: 59.09354386352807, and the loss is: 152631.39454013432\n",
      "When time is : 57, get best_k: -67.18319136954716 best_b: 59.29354386352807, and the loss is: 151491.04088649465\n",
      "When time is : 58, get best_k: -66.98319136954716 best_b: 59.493543863528075, and the loss is: 150354.9719203247\n",
      "When time is : 59, get best_k: -66.78319136954715 best_b: 59.69354386352808, and the loss is: 149223.1876416251\n",
      "When time is : 60, get best_k: -66.58319136954715 best_b: 59.89354386352808, and the loss is: 148095.68805039482\n",
      "When time is : 61, get best_k: -66.38319136954715 best_b: 60.09354386352808, and the loss is: 146972.47314663473\n",
      "When time is : 62, get best_k: -66.18319136954715 best_b: 60.293543863528086, and the loss is: 145853.5429303444\n",
      "When time is : 63, get best_k: -65.98319136954714 best_b: 60.49354386352809, and the loss is: 144738.8974015243\n",
      "When time is : 64, get best_k: -65.78319136954714 best_b: 60.69354386352809, and the loss is: 143628.5365601736\n",
      "When time is : 65, get best_k: -65.58319136954714 best_b: 60.893543863528095, and the loss is: 142522.4604062929\n",
      "When time is : 66, get best_k: -65.38319136954713 best_b: 61.0935438635281, and the loss is: 141420.66893988216\n",
      "When time is : 67, get best_k: -65.18319136954713 best_b: 61.2935438635281, and the loss is: 140323.1621609411\n",
      "When time is : 68, get best_k: -64.98319136954713 best_b: 61.4935438635281, and the loss is: 139229.94006947018\n",
      "When time is : 69, get best_k: -64.78319136954713 best_b: 61.693543863528106, and the loss is: 138141.00266546902\n",
      "When time is : 70, get best_k: -64.58319136954712 best_b: 61.89354386352811, and the loss is: 137056.34994893783\n",
      "When time is : 71, get best_k: -64.38319136954712 best_b: 62.09354386352811, and the loss is: 135975.9819198765\n",
      "When time is : 72, get best_k: -64.18319136954712 best_b: 62.293543863528114, and the loss is: 134899.89857828515\n",
      "When time is : 73, get best_k: -63.983191369547114 best_b: 62.49354386352812, and the loss is: 133828.09992416346\n",
      "When time is : 74, get best_k: -63.78319136954711 best_b: 62.69354386352812, and the loss is: 132760.58595751188\n",
      "When time is : 75, get best_k: -63.58319136954711 best_b: 62.89354386352812, and the loss is: 131697.35667833002\n",
      "When time is : 76, get best_k: -63.383191369547106 best_b: 63.093543863528126, and the loss is: 130638.41208661815\n",
      "When time is : 77, get best_k: -63.1831913695471 best_b: 63.29354386352813, and the loss is: 129583.75218237599\n",
      "When time is : 78, get best_k: -62.9831913695471 best_b: 63.49354386352813, and the loss is: 128533.37696560376\n",
      "When time is : 79, get best_k: -62.7831913695471 best_b: 63.693543863528134, and the loss is: 127487.28643630153\n",
      "When time is : 80, get best_k: -62.583191369547094 best_b: 63.89354386352814, and the loss is: 126445.48059446905\n",
      "When time is : 81, get best_k: -62.38319136954709 best_b: 64.09354386352814, and the loss is: 125407.95944010658\n",
      "When time is : 82, get best_k: -62.18319136954709 best_b: 64.29354386352814, and the loss is: 124374.72297321397\n",
      "When time is : 83, get best_k: -61.983191369547086 best_b: 64.49354386352815, and the loss is: 123345.77119379111\n",
      "When time is : 84, get best_k: -61.78319136954708 best_b: 64.69354386352815, and the loss is: 122321.10410183833\n",
      "When time is : 85, get best_k: -61.58319136954708 best_b: 64.89354386352815, and the loss is: 121300.72169735526\n",
      "When time is : 86, get best_k: -61.38319136954708 best_b: 65.09354386352815, and the loss is: 120284.62398034189\n",
      "When time is : 87, get best_k: -61.183191369547075 best_b: 65.29354386352816, and the loss is: 119272.81095079893\n",
      "When time is : 88, get best_k: -60.98319136954707 best_b: 65.49354386352816, and the loss is: 118265.28260872539\n",
      "When time is : 89, get best_k: -60.78319136954707 best_b: 65.69354386352816, and the loss is: 117262.03895412218\n",
      "When time is : 90, get best_k: -60.583191369547066 best_b: 65.89354386352817, and the loss is: 116263.07998698833\n",
      "When time is : 91, get best_k: -60.38319136954706 best_b: 66.09354386352817, and the loss is: 115268.40570732474\n",
      "When time is : 92, get best_k: -60.18319136954706 best_b: 66.29354386352817, and the loss is: 114278.01611513084\n",
      "When time is : 93, get best_k: -59.98319136954706 best_b: 66.49354386352817, and the loss is: 113291.91121040698\n",
      "When time is : 94, get best_k: -59.783191369547055 best_b: 66.69354386352818, and the loss is: 112310.09099315273\n",
      "When time is : 95, get best_k: -59.58319136954705 best_b: 66.89354386352818, and the loss is: 111332.55546336871\n",
      "When time is : 96, get best_k: -59.38319136954705 best_b: 67.09354386352818, and the loss is: 110359.30462105437\n",
      "When time is : 97, get best_k: -59.183191369547046 best_b: 67.29354386352819, and the loss is: 109390.33846620997\n",
      "When time is : 98, get best_k: -58.98319136954704 best_b: 67.49354386352819, and the loss is: 108425.65699883534\n",
      "When time is : 99, get best_k: -58.78319136954704 best_b: 67.69354386352819, and the loss is: 107465.2602189307\n",
      "When time is : 100, get best_k: -58.58319136954704 best_b: 67.8935438635282, and the loss is: 106509.14812649591\n",
      "When time is : 101, get best_k: -58.383191369547035 best_b: 68.0935438635282, and the loss is: 105557.32072153097\n",
      "When time is : 102, get best_k: -58.18319136954703 best_b: 68.2935438635282, and the loss is: 104609.77800403605\n",
      "When time is : 103, get best_k: -57.98319136954703 best_b: 68.4935438635282, and the loss is: 103666.51997401092\n",
      "When time is : 104, get best_k: -57.783191369547026 best_b: 68.6935438635282, and the loss is: 102727.54663145571\n",
      "When time is : 105, get best_k: -57.58319136954702 best_b: 68.89354386352821, and the loss is: 101792.85797637026\n",
      "When time is : 106, get best_k: -57.38319136954702 best_b: 69.09354386352821, and the loss is: 100862.45400875472\n",
      "When time is : 107, get best_k: -57.18319136954702 best_b: 69.29354386352821, and the loss is: 99936.3347286091\n",
      "When time is : 108, get best_k: -56.983191369547015 best_b: 69.49354386352822, and the loss is: 99014.50013593337\n",
      "When time is : 109, get best_k: -56.78319136954701 best_b: 69.69354386352822, and the loss is: 98096.95023072754\n",
      "When time is : 110, get best_k: -56.58319136954701 best_b: 69.89354386352822, and the loss is: 97183.68501299153\n",
      "When time is : 111, get best_k: -56.383191369547006 best_b: 70.09354386352823, and the loss is: 96274.70448272552\n",
      "When time is : 112, get best_k: -56.183191369547 best_b: 70.29354386352823, and the loss is: 95370.00863992928\n",
      "When time is : 113, get best_k: -55.983191369547 best_b: 70.49354386352823, and the loss is: 94469.59748460296\n",
      "When time is : 114, get best_k: -55.783191369547 best_b: 70.69354386352823, and the loss is: 93573.47101674636\n",
      "When time is : 115, get best_k: -55.583191369546995 best_b: 70.89354386352824, and the loss is: 92681.62923636002\n",
      "When time is : 116, get best_k: -55.38319136954699 best_b: 71.09354386352824, and the loss is: 91794.07214344337\n",
      "When time is : 117, get best_k: -55.18319136954699 best_b: 71.29354386352824, and the loss is: 90910.7997379965\n",
      "When time is : 118, get best_k: -54.98319136954699 best_b: 71.49354386352825, and the loss is: 90031.81202001956\n",
      "When time is : 119, get best_k: -54.783191369546984 best_b: 71.69354386352825, and the loss is: 89157.10898951246\n",
      "When time is : 120, get best_k: -54.58319136954698 best_b: 71.89354386352825, and the loss is: 88286.69064647533\n",
      "When time is : 121, get best_k: -54.38319136954698 best_b: 72.09354386352825, and the loss is: 87420.55699090805\n",
      "When time is : 122, get best_k: -54.183191369546975 best_b: 72.29354386352826, and the loss is: 86558.70802281071\n",
      "When time is : 123, get best_k: -53.98319136954697 best_b: 72.49354386352826, and the loss is: 85701.14374218327\n",
      "When time is : 124, get best_k: -53.78319136954697 best_b: 72.69354386352826, and the loss is: 84847.86414902564\n",
      "When time is : 125, get best_k: -53.58319136954697 best_b: 72.89354386352827, and the loss is: 83998.86924333779\n",
      "When time is : 126, get best_k: -53.383191369546964 best_b: 73.09354386352827, and the loss is: 83154.1590251199\n",
      "When time is : 127, get best_k: -53.18319136954696 best_b: 73.29354386352827, and the loss is: 82313.73349437205\n",
      "When time is : 128, get best_k: -52.98319136954696 best_b: 73.49354386352827, and the loss is: 81477.59265109398\n",
      "When time is : 129, get best_k: -52.783191369546955 best_b: 73.69354386352828, and the loss is: 80645.73649528557\n",
      "When time is : 130, get best_k: -52.58319136954695 best_b: 73.89354386352828, and the loss is: 79818.16502694724\n",
      "When time is : 131, get best_k: -52.38319136954695 best_b: 74.09354386352828, and the loss is: 78994.87824607882\n",
      "When time is : 132, get best_k: -52.18319136954695 best_b: 74.29354386352828, and the loss is: 78175.87615268028\n",
      "When time is : 133, get best_k: -51.983191369546944 best_b: 74.49354386352829, and the loss is: 77361.1587467515\n",
      "When time is : 134, get best_k: -51.78319136954694 best_b: 74.69354386352829, and the loss is: 76550.72602829283\n",
      "When time is : 135, get best_k: -51.58319136954694 best_b: 74.8935438635283, and the loss is: 75744.57799730389\n",
      "When time is : 136, get best_k: -51.383191369546935 best_b: 75.0935438635283, and the loss is: 74942.71465378485\n",
      "When time is : 137, get best_k: -51.18319136954693 best_b: 75.2935438635283, and the loss is: 74145.13599773563\n",
      "When time is : 138, get best_k: -50.98319136954693 best_b: 75.4935438635283, and the loss is: 73351.84202915634\n",
      "When time is : 139, get best_k: -50.78319136954693 best_b: 75.6935438635283, and the loss is: 72562.83274804687\n",
      "When time is : 140, get best_k: -50.583191369546924 best_b: 75.89354386352831, and the loss is: 71778.10815440746\n",
      "When time is : 141, get best_k: -50.38319136954692 best_b: 76.09354386352831, and the loss is: 70997.66824823787\n",
      "When time is : 142, get best_k: -50.18319136954692 best_b: 76.29354386352831, and the loss is: 70221.51302953796\n",
      "When time is : 143, get best_k: -49.983191369546915 best_b: 76.49354386352832, and the loss is: 69449.64249830814\n",
      "When time is : 144, get best_k: -49.78319136954691 best_b: 76.69354386352832, and the loss is: 68682.05665454816\n",
      "When time is : 145, get best_k: -49.58319136954691 best_b: 76.89354386352832, and the loss is: 67918.75549825806\n",
      "When time is : 146, get best_k: -49.38319136954691 best_b: 77.09354386352832, and the loss is: 67159.73902943783\n",
      "When time is : 147, get best_k: -49.183191369546904 best_b: 77.29354386352833, and the loss is: 66405.00724808747\n",
      "When time is : 148, get best_k: -48.9831913695469 best_b: 77.49354386352833, and the loss is: 65654.56015420696\n",
      "When time is : 149, get best_k: -48.7831913695469 best_b: 77.69354386352833, and the loss is: 64908.39774779642\n",
      "When time is : 150, get best_k: -48.583191369546896 best_b: 77.89354386352834, and the loss is: 64166.520028855724\n",
      "When time is : 151, get best_k: -48.38319136954689 best_b: 78.09354386352834, and the loss is: 63428.9269973849\n",
      "When time is : 152, get best_k: -48.18319136954689 best_b: 78.29354386352834, and the loss is: 62695.61865338385\n",
      "When time is : 153, get best_k: -47.98319136954689 best_b: 78.49354386352834, and the loss is: 61966.59499685287\n",
      "When time is : 154, get best_k: -47.783191369546884 best_b: 78.69354386352835, and the loss is: 61241.856027791684\n",
      "When time is : 155, get best_k: -47.58319136954688 best_b: 78.89354386352835, and the loss is: 60521.40174620034\n",
      "When time is : 156, get best_k: -47.38319136954688 best_b: 79.09354386352835, and the loss is: 59805.232152078956\n",
      "When time is : 157, get best_k: -47.183191369546876 best_b: 79.29354386352836, and the loss is: 59093.34724542747\n",
      "When time is : 158, get best_k: -46.98319136954687 best_b: 79.49354386352836, and the loss is: 58385.74702624576\n",
      "When time is : 159, get best_k: -46.78319136954687 best_b: 79.69354386352836, and the loss is: 57682.431494533994\n",
      "When time is : 160, get best_k: -46.58319136954687 best_b: 79.89354386352836, and the loss is: 56983.400650292104\n",
      "When time is : 161, get best_k: -46.383191369546864 best_b: 80.09354386352837, and the loss is: 56288.654493520145\n",
      "When time is : 162, get best_k: -46.18319136954686 best_b: 80.29354386352837, and the loss is: 55598.193024217966\n",
      "When time is : 163, get best_k: -45.98319136954686 best_b: 80.49354386352837, and the loss is: 54912.016242385784\n",
      "When time is : 164, get best_k: -45.783191369546856 best_b: 80.69354386352838, and the loss is: 54230.12414802341\n",
      "When time is : 165, get best_k: -45.58319136954685 best_b: 80.89354386352838, and the loss is: 53552.51674113089\n",
      "When time is : 166, get best_k: -45.38319136954685 best_b: 81.09354386352838, and the loss is: 52879.19402170823\n",
      "When time is : 167, get best_k: -45.18319136954685 best_b: 81.29354386352838, and the loss is: 52210.155989755585\n",
      "When time is : 168, get best_k: -44.983191369546844 best_b: 81.49354386352839, and the loss is: 51545.402645272705\n",
      "When time is : 169, get best_k: -44.78319136954684 best_b: 81.69354386352839, and the loss is: 50884.933988259814\n",
      "When time is : 170, get best_k: -44.58319136954684 best_b: 81.8935438635284, and the loss is: 50228.75001871667\n",
      "When time is : 171, get best_k: -44.383191369546836 best_b: 82.0935438635284, and the loss is: 49576.85073664351\n",
      "When time is : 172, get best_k: -44.18319136954683 best_b: 82.2935438635284, and the loss is: 48929.23614204016\n",
      "When time is : 173, get best_k: -43.98319136954683 best_b: 82.4935438635284, and the loss is: 48285.90623490678\n",
      "When time is : 174, get best_k: -43.78319136954683 best_b: 82.6935438635284, and the loss is: 47646.861015243216\n",
      "When time is : 175, get best_k: -43.583191369546824 best_b: 82.89354386352841, and the loss is: 47012.10048304957\n",
      "When time is : 176, get best_k: -43.38319136954682 best_b: 83.09354386352841, and the loss is: 46381.62463832578\n",
      "When time is : 177, get best_k: -43.18319136954682 best_b: 83.29354386352841, and the loss is: 45755.433481071836\n",
      "When time is : 178, get best_k: -42.983191369546816 best_b: 83.49354386352842, and the loss is: 45133.52701128781\n",
      "When time is : 179, get best_k: -42.78319136954681 best_b: 83.69354386352842, and the loss is: 44515.90522897368\n",
      "When time is : 180, get best_k: -42.58319136954681 best_b: 83.89354386352842, and the loss is: 43902.56813412938\n",
      "When time is : 181, get best_k: -42.38319136954681 best_b: 84.09354386352842, and the loss is: 43293.51572675495\n",
      "When time is : 182, get best_k: -42.183191369546805 best_b: 84.29354386352843, and the loss is: 42688.74800685052\n",
      "When time is : 183, get best_k: -41.9831913695468 best_b: 84.49354386352843, and the loss is: 42088.26497441591\n",
      "When time is : 184, get best_k: -41.7831913695468 best_b: 84.69354386352843, and the loss is: 41492.0666294512\n",
      "When time is : 185, get best_k: -41.583191369546796 best_b: 84.89354386352844, and the loss is: 40900.152971956275\n",
      "When time is : 186, get best_k: -41.38319136954679 best_b: 85.09354386352844, and the loss is: 40312.52400193138\n",
      "When time is : 187, get best_k: -41.18319136954679 best_b: 85.29354386352844, and the loss is: 39729.17971937624\n",
      "When time is : 188, get best_k: -40.98319136954679 best_b: 85.49354386352844, and the loss is: 39150.12012429108\n",
      "When time is : 189, get best_k: -40.783191369546785 best_b: 85.69354386352845, and the loss is: 38575.34521667571\n",
      "When time is : 190, get best_k: -40.58319136954678 best_b: 85.89354386352845, and the loss is: 38004.85499653029\n",
      "When time is : 191, get best_k: -40.38319136954678 best_b: 86.09354386352845, and the loss is: 37438.649463854694\n",
      "When time is : 192, get best_k: -40.183191369546776 best_b: 86.29354386352846, and the loss is: 36876.728618649046\n",
      "When time is : 193, get best_k: -39.98319136954677 best_b: 86.49354386352846, and the loss is: 36319.092460913234\n",
      "When time is : 194, get best_k: -39.78319136954677 best_b: 86.69354386352846, and the loss is: 35765.740990647326\n",
      "When time is : 195, get best_k: -39.58319136954677 best_b: 86.89354386352846, and the loss is: 35216.6742078513\n",
      "When time is : 196, get best_k: -39.383191369546765 best_b: 87.09354386352847, and the loss is: 34671.89211252513\n",
      "When time is : 197, get best_k: -39.18319136954676 best_b: 87.29354386352847, and the loss is: 34131.39470466889\n",
      "When time is : 198, get best_k: -38.98319136954676 best_b: 87.49354386352847, and the loss is: 33595.18198428249\n",
      "When time is : 199, get best_k: -38.783191369546756 best_b: 87.69354386352848, and the loss is: 33063.25395136596\n",
      "When time is : 200, get best_k: -38.58319136954675 best_b: 87.89354386352848, and the loss is: 32535.61060591934\n",
      "When time is : 201, get best_k: -38.38319136954675 best_b: 88.09354386352848, and the loss is: 32012.25194794258\n",
      "When time is : 202, get best_k: -38.18319136954675 best_b: 88.29354386352848, and the loss is: 31493.177977435695\n",
      "When time is : 203, get best_k: -37.983191369546745 best_b: 88.49354386352849, and the loss is: 30978.388694398698\n",
      "When time is : 204, get best_k: -37.78319136954674 best_b: 88.69354386352849, and the loss is: 30467.884098831593\n",
      "When time is : 205, get best_k: -37.58319136954674 best_b: 88.89354386352849, and the loss is: 29961.66419073442\n",
      "When time is : 206, get best_k: -37.383191369546736 best_b: 89.0935438635285, and the loss is: 29459.72897010706\n",
      "When time is : 207, get best_k: -37.18319136954673 best_b: 89.2935438635285, and the loss is: 28962.078436949632\n",
      "When time is : 208, get best_k: -36.98319136954673 best_b: 89.4935438635285, and the loss is: 28468.71259126203\n",
      "When time is : 209, get best_k: -36.78319136954673 best_b: 89.6935438635285, and the loss is: 27979.63143304435\n",
      "When time is : 210, get best_k: -36.583191369546725 best_b: 89.8935438635285, and the loss is: 27494.834962296514\n",
      "When time is : 211, get best_k: -36.38319136954672 best_b: 90.09354386352851, and the loss is: 27014.32317901857\n",
      "When time is : 212, get best_k: -36.18319136954672 best_b: 90.29354386352851, and the loss is: 26538.096083210537\n",
      "When time is : 213, get best_k: -35.98319136954672 best_b: 90.49354386352852, and the loss is: 26066.15367487236\n",
      "When time is : 214, get best_k: -35.783191369546714 best_b: 90.69354386352852, and the loss is: 25598.49595400409\n",
      "When time is : 215, get best_k: -35.58319136954671 best_b: 90.89354386352852, and the loss is: 25135.122920605667\n",
      "When time is : 216, get best_k: -35.38319136954671 best_b: 91.09354386352852, and the loss is: 24676.034574677145\n",
      "When time is : 217, get best_k: -35.183191369546705 best_b: 91.29354386352853, and the loss is: 24221.230916218516\n",
      "When time is : 218, get best_k: -34.9831913695467 best_b: 91.49354386352853, and the loss is: 23770.71194522975\n",
      "When time is : 219, get best_k: -34.7831913695467 best_b: 91.69354386352853, and the loss is: 23324.47766171089\n",
      "When time is : 220, get best_k: -34.5831913695467 best_b: 91.89354386352854, and the loss is: 22882.52806566186\n",
      "When time is : 221, get best_k: -34.383191369546694 best_b: 92.09354386352854, and the loss is: 22444.86315708274\n",
      "When time is : 222, get best_k: -34.18319136954669 best_b: 92.29354386352854, and the loss is: 22011.482935973523\n",
      "When time is : 223, get best_k: -33.98319136954669 best_b: 92.49354386352854, and the loss is: 21582.38740233417\n",
      "When time is : 224, get best_k: -33.783191369546685 best_b: 92.69354386352855, and the loss is: 21157.576556164706\n",
      "When time is : 225, get best_k: -33.58319136954668 best_b: 92.89354386352855, and the loss is: 20737.050397465104\n",
      "When time is : 226, get best_k: -33.38319136954668 best_b: 93.09354386352855, and the loss is: 20320.808926235386\n",
      "When time is : 227, get best_k: -33.18319136954668 best_b: 93.29354386352855, and the loss is: 19908.85214247556\n",
      "When time is : 228, get best_k: -32.983191369546674 best_b: 93.49354386352856, and the loss is: 19501.180046185615\n",
      "When time is : 229, get best_k: -32.78319136954667 best_b: 93.69354386352856, and the loss is: 19097.79263736555\n",
      "When time is : 230, get best_k: -32.58319136954667 best_b: 93.89354386352856, and the loss is: 18698.6899160154\n",
      "When time is : 231, get best_k: -32.383191369546665 best_b: 94.09354386352857, and the loss is: 18303.87188213507\n",
      "When time is : 232, get best_k: -32.18319136954666 best_b: 94.29354386352857, and the loss is: 17913.33853572465\n",
      "When time is : 233, get best_k: -31.983191369546663 best_b: 94.49354386352857, and the loss is: 17527.089876784106\n",
      "When time is : 234, get best_k: -31.783191369546664 best_b: 94.69354386352857, and the loss is: 17145.125905313475\n",
      "When time is : 235, get best_k: -31.583191369546665 best_b: 94.89354386352858, and the loss is: 16767.44662131268\n",
      "When time is : 236, get best_k: -31.383191369546665 best_b: 95.09354386352858, and the loss is: 16394.052024781802\n",
      "When time is : 237, get best_k: -31.183191369546666 best_b: 95.29354386352858, and the loss is: 16024.942115720807\n",
      "When time is : 238, get best_k: -30.983191369546667 best_b: 95.49354386352859, and the loss is: 15660.116894129673\n",
      "When time is : 239, get best_k: -30.783191369546667 best_b: 95.69354386352859, and the loss is: 15299.576360008417\n",
      "When time is : 240, get best_k: -30.583191369546668 best_b: 95.89354386352859, and the loss is: 14943.320513357074\n",
      "When time is : 241, get best_k: -30.38319136954667 best_b: 96.0935438635286, and the loss is: 14591.349354175582\n",
      "When time is : 242, get best_k: -30.18319136954667 best_b: 96.2935438635286, and the loss is: 14243.662882463987\n",
      "When time is : 243, get best_k: -29.98319136954667 best_b: 96.4935438635286, and the loss is: 13900.261098222265\n",
      "When time is : 244, get best_k: -29.78319136954667 best_b: 96.6935438635286, and the loss is: 13561.14400145044\n",
      "When time is : 245, get best_k: -29.58319136954667 best_b: 96.8935438635286, and the loss is: 13226.311592148484\n",
      "When time is : 246, get best_k: -29.383191369546672 best_b: 97.09354386352861, and the loss is: 12895.763870316398\n",
      "When time is : 247, get best_k: -29.183191369546673 best_b: 97.29354386352861, and the loss is: 12569.500835954204\n",
      "When time is : 248, get best_k: -28.983191369546674 best_b: 97.49354386352861, and the loss is: 12247.52248906191\n",
      "When time is : 249, get best_k: -28.783191369546675 best_b: 97.69354386352862, and the loss is: 11929.828829639464\n",
      "When time is : 250, get best_k: -28.583191369546675 best_b: 97.89354386352862, and the loss is: 11616.419857686906\n",
      "When time is : 251, get best_k: -28.383191369546676 best_b: 98.09354386352862, and the loss is: 11307.29557320426\n",
      "When time is : 252, get best_k: -28.183191369546677 best_b: 98.29354386352863, and the loss is: 11002.455976191457\n",
      "When time is : 253, get best_k: -27.983191369546677 best_b: 98.49354386352863, and the loss is: 10701.901066648554\n",
      "When time is : 254, get best_k: -27.783191369546678 best_b: 98.69354386352863, and the loss is: 10405.630844575531\n",
      "When time is : 255, get best_k: -27.58319136954668 best_b: 98.89354386352863, and the loss is: 10113.645309972408\n",
      "When time is : 256, get best_k: -27.38319136954668 best_b: 99.09354386352864, and the loss is: 9825.944462839143\n",
      "When time is : 257, get best_k: -27.18319136954668 best_b: 99.29354386352864, and the loss is: 9542.528303175759\n",
      "When time is : 258, get best_k: -26.98319136954668 best_b: 99.49354386352864, and the loss is: 9263.396830982254\n",
      "When time is : 259, get best_k: -26.78319136954668 best_b: 99.69354386352865, and the loss is: 8988.550046258639\n",
      "When time is : 260, get best_k: -26.583191369546682 best_b: 99.89354386352865, and the loss is: 8717.987949004908\n",
      "When time is : 261, get best_k: -26.383191369546683 best_b: 100.09354386352865, and the loss is: 8451.710539221054\n",
      "When time is : 262, get best_k: -26.183191369546684 best_b: 100.29354386352865, and the loss is: 8189.717816907086\n",
      "When time is : 263, get best_k: -25.983191369546685 best_b: 100.49354386352866, and the loss is: 7932.009782063005\n",
      "When time is : 264, get best_k: -25.783191369546685 best_b: 100.69354386352866, and the loss is: 7678.586434688786\n",
      "When time is : 265, get best_k: -25.583191369546686 best_b: 100.89354386352866, and the loss is: 7429.447774784464\n",
      "When time is : 266, get best_k: -25.383191369546687 best_b: 101.09354386352867, and the loss is: 7184.593802350012\n",
      "When time is : 267, get best_k: -25.183191369546687 best_b: 101.29354386352867, and the loss is: 6944.024517385456\n",
      "When time is : 268, get best_k: -24.983191369546688 best_b: 101.49354386352867, and the loss is: 6707.739919890772\n",
      "When time is : 269, get best_k: -24.78319136954669 best_b: 101.69354386352867, and the loss is: 6475.740009865976\n",
      "When time is : 270, get best_k: -24.58319136954669 best_b: 101.89354386352868, and the loss is: 6248.0247873110375\n",
      "When time is : 271, get best_k: -24.38319136954669 best_b: 102.09354386352868, and the loss is: 6024.594252226008\n",
      "When time is : 272, get best_k: -24.18319136954669 best_b: 102.29354386352868, and the loss is: 5805.448404610849\n"
     ]
    },
    {
     "name": "stdout",
     "output_type": "stream",
     "text": [
      "When time is : 273, get best_k: -23.98319136954669 best_b: 102.49354386352869, and the loss is: 5590.587244465566\n",
      "When time is : 274, get best_k: -23.783191369546692 best_b: 102.69354386352869, and the loss is: 5380.01077179018\n",
      "When time is : 275, get best_k: -23.583191369546693 best_b: 102.89354386352869, and the loss is: 5173.718986584664\n",
      "When time is : 276, get best_k: -23.383191369546694 best_b: 103.0935438635287, and the loss is: 4971.711888849028\n",
      "When time is : 277, get best_k: -23.183191369546694 best_b: 103.2935438635287, and the loss is: 4773.989478583282\n",
      "When time is : 278, get best_k: -22.983191369546695 best_b: 103.4935438635287, and the loss is: 4580.551755787419\n",
      "When time is : 279, get best_k: -22.783191369546696 best_b: 103.6935438635287, and the loss is: 4391.398720461429\n",
      "When time is : 280, get best_k: -22.583191369546697 best_b: 103.8935438635287, and the loss is: 4206.530372605325\n",
      "When time is : 281, get best_k: -22.383191369546697 best_b: 104.09354386352871, and the loss is: 4025.9467122191036\n",
      "When time is : 282, get best_k: -22.183191369546698 best_b: 104.29354386352871, and the loss is: 3849.6477393027553\n",
      "When time is : 283, get best_k: -21.9831913695467 best_b: 104.49354386352871, and the loss is: 3677.633453856292\n",
      "When time is : 284, get best_k: -21.7831913695467 best_b: 104.69354386352872, and the loss is: 3509.90385587971\n",
      "When time is : 285, get best_k: -21.5831913695467 best_b: 104.89354386352872, and the loss is: 3346.4589453730146\n",
      "When time is : 286, get best_k: -21.3831913695467 best_b: 105.09354386352872, and the loss is: 3187.2987223361993\n",
      "When time is : 287, get best_k: -21.1831913695467 best_b: 105.29354386352873, and the loss is: 3032.4231867692592\n",
      "When time is : 288, get best_k: -20.983191369546702 best_b: 105.49354386352873, and the loss is: 2881.8323386722036\n",
      "When time is : 289, get best_k: -20.783191369546703 best_b: 105.69354386352873, and the loss is: 2735.5261780450373\n",
      "When time is : 290, get best_k: -20.583191369546704 best_b: 105.89354386352873, and the loss is: 2593.5047048877414\n",
      "When time is : 291, get best_k: -20.383191369546704 best_b: 106.09354386352874, and the loss is: 2455.7679192003297\n",
      "When time is : 292, get best_k: -20.183191369546705 best_b: 106.29354386352874, and the loss is: 2322.315820982802\n",
      "When time is : 293, get best_k: -19.983191369546706 best_b: 106.49354386352874, and the loss is: 2193.1484102351537\n",
      "When time is : 294, get best_k: -19.783191369546707 best_b: 106.69354386352875, and the loss is: 2068.265686957388\n",
      "When time is : 295, get best_k: -19.583191369546707 best_b: 106.89354386352875, and the loss is: 1947.6676511494982\n",
      "When time is : 296, get best_k: -19.383191369546708 best_b: 107.09354386352875, and the loss is: 1831.354302811496\n",
      "When time is : 297, get best_k: -19.18319136954671 best_b: 107.29354386352875, and the loss is: 1719.3256419433744\n",
      "When time is : 298, get best_k: -18.98319136954671 best_b: 107.49354386352876, and the loss is: 1611.5816685451364\n",
      "When time is : 299, get best_k: -18.78319136954671 best_b: 107.69354386352876, and the loss is: 1508.1223826167748\n",
      "When time is : 300, get best_k: -18.58319136954671 best_b: 107.89354386352876, and the loss is: 1408.9477841582977\n",
      "When time is : 301, get best_k: -18.38319136954671 best_b: 108.09354386352877, and the loss is: 1314.0578731697035\n",
      "When time is : 302, get best_k: -18.183191369546712 best_b: 108.29354386352877, and the loss is: 1223.4526496509877\n",
      "When time is : 303, get best_k: -17.983191369546713 best_b: 108.49354386352877, and the loss is: 1137.1321136021556\n",
      "When time is : 304, get best_k: -17.783191369546714 best_b: 108.69354386352877, and the loss is: 1055.0962650232007\n",
      "When time is : 305, get best_k: -17.583191369546714 best_b: 108.89354386352878, and the loss is: 977.345103914131\n",
      "When time is : 306, get best_k: -17.383191369546715 best_b: 109.09354386352878, and the loss is: 903.8786302749409\n",
      "When time is : 307, get best_k: -17.183191369546716 best_b: 109.29354386352878, and the loss is: 834.6968441056333\n",
      "When time is : 308, get best_k: -16.983191369546716 best_b: 109.49354386352879, and the loss is: 769.7997454062063\n",
      "When time is : 309, get best_k: -16.783191369546717 best_b: 109.69354386352879, and the loss is: 709.1873341766615\n",
      "When time is : 310, get best_k: -16.583191369546718 best_b: 109.89354386352879, and the loss is: 652.8596104169981\n",
      "When time is : 311, get best_k: -16.38319136954672 best_b: 110.0935438635288, and the loss is: 600.8165741272153\n",
      "When time is : 312, get best_k: -16.18319136954672 best_b: 110.2935438635288, and the loss is: 553.0582253073147\n",
      "When time is : 313, get best_k: -15.98319136954672 best_b: 110.4935438635288, and the loss is: 509.58456395729536\n",
      "When time is : 314, get best_k: -15.78319136954672 best_b: 110.6935438635288, and the loss is: 470.3955900771574\n",
      "When time is : 315, get best_k: -15.583191369546721 best_b: 110.8935438635288, and the loss is: 435.4913036669003\n",
      "When time is : 316, get best_k: -15.383191369546722 best_b: 111.09354386352881, and the loss is: 404.8717047265257\n",
      "When time is : 317, get best_k: -15.183191369546723 best_b: 111.29354386352881, and the loss is: 378.5367932560315\n",
      "When time is : 318, get best_k: -14.983191369546724 best_b: 111.49354386352881, and the loss is: 356.4865692554192\n",
      "When time is : 319, get best_k: -14.783191369546724 best_b: 111.69354386352882, and the loss is: 338.72103272468826\n",
      "When time is : 320, get best_k: -14.583191369546725 best_b: 111.89354386352882, and the loss is: 325.2401836638385\n",
      "When time is : 321, get best_k: -14.383191369546726 best_b: 112.09354386352882, and the loss is: 316.044022072871\n",
      "When time is : 322, get best_k: -14.183191369546726 best_b: 112.29354386352882, and the loss is: 311.1325479517834\n",
      "When time is : 323, get best_k: -13.983191369546727 best_b: 112.49354386352883, and the loss is: 310.50576130057834\n"
     ]
    }
   ],
   "source": [
    "min_loss = float('inf')\n",
    "best_k = random.random() * 200 - 100\n",
    "best_b = random.random() * 200 - 100\n",
    "\n",
    "direction = [(+1, -1), (+1, +1), (-1, -1), (-1, +1)]\n",
    "next_direction = random.choice(direction)\n",
    "\n",
    "scalar = 0.2\n",
    "\n",
    "for i in range(2000):\n",
    "    k_direction, b_direction = next_direction\n",
    "    current_k, current_b = best_k + k_direction * scalar, best_b + b_direction * scalar\n",
    "    \n",
    "    price_by_k_and_b = [price(r, current_k, current_b) for r in X_rm]\n",
    "\n",
    "    current_loss = loss(y, price_by_k_and_b)\n",
    "    \n",
    "    if current_loss < min_loss: \n",
    "        min_loss = current_loss\n",
    "        best_k, best_b = current_k, current_b\n",
    "        next_direction = next_direction\n",
    "        print('When time is : {}, get best_k: {} best_b: {}, and the loss is: {}'.format(i, best_k, best_b, min_loss))\n",
    "    else:\n",
    "        next_direction = random.choice(direction)"
   ]
  },
  {
   "cell_type": "markdown",
   "metadata": {},
   "source": [
    "# 3 Gradient Descent to get optimal k and b"
   ]
  },
  {
   "cell_type": "code",
   "execution_count": 4,
   "metadata": {},
   "outputs": [],
   "source": [
    "from icecream import ic"
   ]
  },
  {
   "cell_type": "code",
   "execution_count": 5,
   "metadata": {},
   "outputs": [],
   "source": [
    "def partial_k(x, y, y_hat):\n",
    "    n = len(y)\n",
    "    gradient = 0\n",
    "    \n",
    "    for x_i, y_i, y_hat_i in zip(list(x), list(y), list(y_hat)):\n",
    "        gradient += (y_i - y_hat_i) * x_i\n",
    "    \n",
    "    return -2 / n * gradient\n",
    "\n",
    "def partial_b(x, y, y_hat):\n",
    "    n = len(y)\n",
    "    gradient = 0\n",
    "    \n",
    "    for y_i, y_hat_i in zip(list(y), list(y_hat)):\n",
    "        gradient += (y_i - y_hat_i)\n",
    "    \n",
    "    return -2 / n * gradient"
   ]
  },
  {
   "cell_type": "code",
   "execution_count": 6,
   "metadata": {},
   "outputs": [
    {
     "name": "stdout",
     "output_type": "stream",
     "text": [
      "When time is : 0, get best_k: -13.983191369546727 best_b: 112.49354386352883, and the loss is: 283994.36829944473\n",
      "When time is : 50, get best_k: -13.983191369546727 best_b: 112.49354386352883, and the loss is: 124741.55097926321\n",
      "When time is : 100, get best_k: -13.983191369546727 best_b: 112.49354386352883, and the loss is: 54806.271715688476\n",
      "When time is : 150, get best_k: -13.983191369546727 best_b: 112.49354386352883, and the loss is: 24094.455048167263\n",
      "When time is : 200, get best_k: -13.983191369546727 best_b: 112.49354386352883, and the loss is: 10607.47519886267\n",
      "When time is : 250, get best_k: -13.983191369546727 best_b: 112.49354386352883, and the loss is: 4684.717980087047\n",
      "When time is : 300, get best_k: -13.983191369546727 best_b: 112.49354386352883, and the loss is: 2083.760823000776\n",
      "When time is : 350, get best_k: -13.983191369546727 best_b: 112.49354386352883, and the loss is: 941.5597323744305\n",
      "When time is : 400, get best_k: -13.983191369546727 best_b: 112.49354386352883, and the loss is: 439.96590953473583\n",
      "When time is : 450, get best_k: -13.983191369546727 best_b: 112.49354386352883, and the loss is: 219.69237119811794\n",
      "When time is : 500, get best_k: -13.983191369546727 best_b: 112.49354386352883, and the loss is: 122.95958316939026\n",
      "When time is : 550, get best_k: -13.983191369546727 best_b: 112.49354386352883, and the loss is: 80.47925344491935\n",
      "When time is : 600, get best_k: -13.983191369546727 best_b: 112.49354386352883, and the loss is: 61.823687880013836\n",
      "When time is : 650, get best_k: -13.983191369546727 best_b: 112.49354386352883, and the loss is: 53.63067845667984\n",
      "When time is : 700, get best_k: -13.983191369546727 best_b: 112.49354386352883, and the loss is: 50.03226152747311\n",
      "When time is : 750, get best_k: -13.983191369546727 best_b: 112.49354386352883, and the loss is: 48.45154281552184\n",
      "When time is : 800, get best_k: -13.983191369546727 best_b: 112.49354386352883, and the loss is: 47.75688884229201\n",
      "When time is : 850, get best_k: -13.983191369546727 best_b: 112.49354386352883, and the loss is: 47.4513470004248\n",
      "When time is : 900, get best_k: -13.983191369546727 best_b: 112.49354386352883, and the loss is: 47.31668241205268\n",
      "When time is : 950, get best_k: -13.983191369546727 best_b: 112.49354386352883, and the loss is: 47.25705804720455\n",
      "When time is : 1000, get best_k: -13.983191369546727 best_b: 112.49354386352883, and the loss is: 47.23038743277905\n",
      "When time is : 1050, get best_k: -13.983191369546727 best_b: 112.49354386352883, and the loss is: 47.21818845158048\n",
      "When time is : 1100, get best_k: -13.983191369546727 best_b: 112.49354386352883, and the loss is: 47.21234475097743\n",
      "When time is : 1150, get best_k: -13.983191369546727 best_b: 112.49354386352883, and the loss is: 47.20929206505651\n",
      "When time is : 1200, get best_k: -13.983191369546727 best_b: 112.49354386352883, and the loss is: 47.207465159751784\n",
      "When time is : 1250, get best_k: -13.983191369546727 best_b: 112.49354386352883, and the loss is: 47.20617666835247\n",
      "When time is : 1300, get best_k: -13.983191369546727 best_b: 112.49354386352883, and the loss is: 47.205124736311625\n",
      "When time is : 1350, get best_k: -13.983191369546727 best_b: 112.49354386352883, and the loss is: 47.2041768053065\n",
      "When time is : 1400, get best_k: -13.983191369546727 best_b: 112.49354386352883, and the loss is: 47.20327466281753\n",
      "When time is : 1450, get best_k: -13.983191369546727 best_b: 112.49354386352883, and the loss is: 47.20239274500658\n",
      "When time is : 1500, get best_k: -13.983191369546727 best_b: 112.49354386352883, and the loss is: 47.201519825581734\n",
      "When time is : 1550, get best_k: -13.983191369546727 best_b: 112.49354386352883, and the loss is: 47.20065097453063\n",
      "When time is : 1600, get best_k: -13.983191369546727 best_b: 112.49354386352883, and the loss is: 47.19978402682898\n",
      "When time is : 1650, get best_k: -13.983191369546727 best_b: 112.49354386352883, and the loss is: 47.198918031686105\n",
      "When time is : 1700, get best_k: -13.983191369546727 best_b: 112.49354386352883, and the loss is: 47.198052571538064\n",
      "When time is : 1750, get best_k: -13.983191369546727 best_b: 112.49354386352883, and the loss is: 47.19718746298498\n",
      "When time is : 1800, get best_k: -13.983191369546727 best_b: 112.49354386352883, and the loss is: 47.19632262545953\n",
      "When time is : 1850, get best_k: -13.983191369546727 best_b: 112.49354386352883, and the loss is: 47.19545802355269\n",
      "When time is : 1900, get best_k: -13.983191369546727 best_b: 112.49354386352883, and the loss is: 47.19459364168687\n",
      "When time is : 1950, get best_k: -13.983191369546727 best_b: 112.49354386352883, and the loss is: 47.193729472993105\n"
     ]
    }
   ],
   "source": [
    "trying_times = 2000\n",
    "min_loss = float('inf') \n",
    "\n",
    "current_k = random.random() * 200 - 100\n",
    "current_b = random.random() * 200 - 100\n",
    "\n",
    "learning_rate = 1e-04\n",
    "update_time = 0\n",
    "\n",
    "for i in range(trying_times):\n",
    "    price_by_k_and_b = [price(r, current_k, current_b) for r in X_rm]\n",
    "    current_loss = loss(y, price_by_k_and_b)\n",
    "\n",
    "    if current_loss < min_loss: \n",
    "        min_loss = current_loss\n",
    "        \n",
    "        if i % 50 == 0: \n",
    "            print('When time is : {}, get best_k: {} best_b: {}, and the loss is: {}'.format(i, best_k, best_b, min_loss))\n",
    "\n",
    "    k_gradient = partial_k(X_rm, y, price_by_k_and_b)\n",
    "    b_gradient = partial_b(X_rm, y, price_by_k_and_b)\n",
    "    \n",
    "    current_k = current_k + (-1 * k_gradient) * learning_rate\n",
    "    current_b = current_b + (-1 * b_gradient) * learning_rate"
   ]
  },
  {
   "cell_type": "markdown",
   "metadata": {},
   "source": [
    "![](https://timgsa.baidu.com/timg?image&quality=80&size=b9999_10000&sec=1562414412237&di=8377c38d7b50c6f8d45b92ccc78dc1e7&imgtype=0&src=http%3A%2F%2Fmmbiz.qpic.cn%2Fmmbiz_jpg%2FlSyiavfm6wPgQDuDYa42IMgSkLOcPJU91RbkMibGy7VHLrhhNVLibTYk1iaLcmXKTdHc4icTDVia59QFXwqpW8cLflaw%2F640%3Fwx_fmt%3Djpeg)"
   ]
  },
  {
   "cell_type": "markdown",
   "metadata": {},
   "source": [
    "## 2. Answer following questions:\n",
    "\n",
    "\n",
    "###### 1. Why do we need machine learning methods instead of creating a complicated formula?\n"
   ]
  },
  {
   "cell_type": "markdown",
   "metadata": {},
   "source": [
    "Ans: 有一些规律或数据间的内在联系，不容易被看到。机器学习就可以提供给我们一些它发现的规律"
   ]
  },
  {
   "cell_type": "markdown",
   "metadata": {},
   "source": [
    "###### 2.  Wha't's the disadvantages of `the 1st Random Choosen` methods in our course? "
   ]
  },
  {
   "cell_type": "markdown",
   "metadata": {},
   "source": [
    "Ans: 随机性太大，即使遇到误差小的系数，也不会对下次的选择产生任何帮助"
   ]
  },
  {
   "cell_type": "markdown",
   "metadata": {},
   "source": [
    "###### 3. Is the `2nd method supervised direction` better than 1st one?  What's the disadvantages of `the 2nd supversied directin` method? "
   ]
  },
  {
   "cell_type": "markdown",
   "metadata": {},
   "source": [
    "Ans: 是的，第2种比第一种选择方法更好。缺点不是很清楚，可能是不好判断是否到达误差最小值了吧"
   ]
  },
  {
   "cell_type": "markdown",
   "metadata": {},
   "source": [
    "###### 4. Why do we use `Derivative / Gredient` to fit a target function? "
   ]
  },
  {
   "cell_type": "markdown",
   "metadata": {},
   "source": [
    "Ans: 沿着梯度反方向，至梯度为0，就可以知道我们已经到达误差最小值了"
   ]
  },
  {
   "cell_type": "markdown",
   "metadata": {},
   "source": [
    "###### 5. In the words 'Gredient Descent', what's the `Gredient` and what's the `Descent`?"
   ]
  },
  {
   "cell_type": "markdown",
   "metadata": {},
   "source": [
    "Ans: 多维数据我们叫梯度，一维数据，就是导数。。。下降就是沿梯度相反的方向"
   ]
  },
  {
   "cell_type": "markdown",
   "metadata": {},
   "source": [
    "###### 6. What's the advantages of `the 3rd gradient descent method` compared to the previous methods?"
   ]
  },
  {
   "cell_type": "markdown",
   "metadata": {},
   "source": [
    "Ans: 最快找到误差最小值"
   ]
  },
  {
   "cell_type": "markdown",
   "metadata": {},
   "source": [
    "###### 7. Using the simple words to describe: What's the machine leanring."
   ]
  },
  {
   "cell_type": "markdown",
   "metadata": {},
   "source": [
    "Ans: 让电脑自己通过数据找到规律，生成一些公式或系数。再次输入新的数据时，电脑可以通过这此顾虑，准确判断"
   ]
  },
  {
   "cell_type": "markdown",
   "metadata": {},
   "source": [
    "## 3. Finish the search problem"
   ]
  },
  {
   "cell_type": "markdown",
   "metadata": {},
   "source": [
    "Please using the search policy to implement an agent. This agent receives two input, one is @param start station and the other is @param destination. Your agent should give the optimal route based on Beijing Subway system. "
   ]
  },
  {
   "cell_type": "markdown",
   "metadata": {},
   "source": [
    "> Deadline: 2019-July-13\n",
    "\n",
    ">Submit: Submit the source code and result to github. \n",
    "\n"
   ]
  },
  {
   "cell_type": "markdown",
   "metadata": {},
   "source": [
    "![](https://timgsa.baidu.com/timg?image&quality=80&size=b9999_10000&sec=1562414356407&di=b57814aafd215bb8b8d9d8cd37c573d6&imgtype=0&src=http%3A%2F%2Fcli.clewm.net%2Ffile%2F2015%2F03%2F24%2F174ed60082b8422ac0636cfd3efb9e7f.jpg)"
   ]
  },
  {
   "cell_type": "markdown",
   "metadata": {},
   "source": [
    "#### Dataflow: "
   ]
  },
  {
   "cell_type": "markdown",
   "metadata": {},
   "source": [
    "##### 1.\tGet data from web page.\n",
    "\n",
    "> a.\tGet web page source from: https://baike.baidu.com/item/%E5%8C%97%E4%BA%AC%E5%9C%B0%E9%93%81/408485\n",
    "\n",
    "> b.\tYou may need @package **requests**[https://2.python-requests.org/en/master/] page to get the response via url\n",
    "\n",
    "> c.\tYou may need save the page source to file system.\n",
    "\n",
    "> d.\tThe target of this step is to get station information of all the subway lines;\n",
    "\n",
    "> e.\tYou may need install @package beautiful soup[https://www.crummy.com/software/BeautifulSoup/bs4/doc/]  to get the url information, or just use > Regular Expression to get the url.  Our recommendation is that using the Regular Expression and BeautiflSoup both. \n",
    "\n",
    "> f.\tYou may need BFS to get all the related page url from one url. \n",
    "Question: Why do we use BFS to traverse web page (or someone said, build a web spider)?  Can DFS do this job? which is better? "
   ]
  },
  {
   "cell_type": "code",
   "execution_count": 4,
   "metadata": {},
   "outputs": [],
   "source": [
    "import requests \n",
    "import re "
   ]
  },
  {
   "cell_type": "code",
   "execution_count": 5,
   "metadata": {},
   "outputs": [],
   "source": [
    "url = \"http://bj.bendibao.com/ditie/\"\n",
    "lines = re.findall('<a style=\"color:#.+?;\" href=\"/ditie/(.+?)\" target=\"_blank\">', requests.get(url+\"linemap.shtml\").text)\n",
    "\n",
    "station_per_line = dict() \n",
    "stations = set() \n",
    "\n",
    "station_with_change = r'<a class=\"link\" href=\"/ditie/zd_.+?\\.shtml\">(.+?)$'\n",
    "station_without_change = '<a href=\"/ditie/zd_.+?\\.shtml\" class=\"link\" target=\"_blank\">(.+?)$'\n",
    "\n",
    "for line in lines:\n",
    "    #station_in_order = []\n",
    "    order = []\n",
    "    for text in requests.get(url+line).text.split(\"</a>\"):\n",
    "        if re.search(station_with_change, text):\n",
    "            stations.update(re.findall(station_with_change, text))\n",
    "            order.append(re.findall(station_with_change, text)[0])\n",
    "        if re.search(station_without_change, text):\n",
    "            stations.update(re.findall(station_without_change, text))\n",
    "            order.append(re.findall(station_without_change, text)[0])\n",
    "        else: continue\n",
    "    station_per_line[line] = order"
   ]
  },
  {
   "cell_type": "code",
   "execution_count": 6,
   "metadata": {},
   "outputs": [
    {
     "data": {
      "text/plain": [
       "['积水潭',\n",
       " '鼓楼大街',\n",
       " '安定门',\n",
       " '雍和宫',\n",
       " '东直门',\n",
       " '东四十条',\n",
       " '朝阳门',\n",
       " '建国门',\n",
       " '北京站',\n",
       " '崇文门',\n",
       " '前门',\n",
       " '和平门',\n",
       " '宣武门',\n",
       " '长椿街',\n",
       " '复兴门',\n",
       " '阜成门',\n",
       " '车公庄',\n",
       " '西直门']"
      ]
     },
     "execution_count": 6,
     "metadata": {},
     "output_type": "execute_result"
    }
   ],
   "source": [
    "station_per_line['map_211.shtml']"
   ]
  },
  {
   "cell_type": "code",
   "execution_count": null,
   "metadata": {},
   "outputs": [],
   "source": []
  },
  {
   "cell_type": "markdown",
   "metadata": {},
   "source": [
    "##### 2.\tPreprocessing data from page source.\n",
    "\n",
    "> a.\tBased on the page source gotten from url. You may need some more preprocessing of the page. \n",
    "\n",
    "> b.\tthe Regular Expression you may need to process the text information.\n",
    "\n",
    "> c.\tYou may need @package networkx, @package matplotlib to visualize data. \n",
    "\n",
    "> d.\tYou should build a dictionary or graph which could represent the connection information of Beijing subway routes. \n",
    "\n",
    "> e.\tYou may need the defaultdict, set data structures to implement this procedure. "
   ]
  },
  {
   "cell_type": "code",
   "execution_count": 7,
   "metadata": {},
   "outputs": [
    {
     "data": {
      "text/html": [
       "<div>\n",
       "<style scoped>\n",
       "    .dataframe tbody tr th:only-of-type {\n",
       "        vertical-align: middle;\n",
       "    }\n",
       "\n",
       "    .dataframe tbody tr th {\n",
       "        vertical-align: top;\n",
       "    }\n",
       "\n",
       "    .dataframe thead th {\n",
       "        text-align: right;\n",
       "    }\n",
       "</style>\n",
       "<table border=\"1\" class=\"dataframe\">\n",
       "  <thead>\n",
       "    <tr style=\"text-align: right;\">\n",
       "      <th></th>\n",
       "      <th>station_name</th>\n",
       "      <th>lat</th>\n",
       "      <th>lon</th>\n",
       "    </tr>\n",
       "  </thead>\n",
       "  <tbody>\n",
       "    <tr>\n",
       "      <th>0</th>\n",
       "      <td>苹果园</td>\n",
       "      <td>39.926325</td>\n",
       "      <td>116.177781</td>\n",
       "    </tr>\n",
       "    <tr>\n",
       "      <th>1</th>\n",
       "      <td>古城</td>\n",
       "      <td>39.907201</td>\n",
       "      <td>116.190248</td>\n",
       "    </tr>\n",
       "    <tr>\n",
       "      <th>2</th>\n",
       "      <td>八角游乐园</td>\n",
       "      <td>39.907432</td>\n",
       "      <td>116.212821</td>\n",
       "    </tr>\n",
       "    <tr>\n",
       "      <th>3</th>\n",
       "      <td>八宝山</td>\n",
       "      <td>39.907267</td>\n",
       "      <td>116.235824</td>\n",
       "    </tr>\n",
       "    <tr>\n",
       "      <th>4</th>\n",
       "      <td>玉泉路</td>\n",
       "      <td>39.907333</td>\n",
       "      <td>116.253033</td>\n",
       "    </tr>\n",
       "  </tbody>\n",
       "</table>\n",
       "</div>"
      ],
      "text/plain": [
       "  station_name        lat         lon\n",
       "0          苹果园  39.926325  116.177781\n",
       "1           古城  39.907201  116.190248\n",
       "2        八角游乐园  39.907432  116.212821\n",
       "3          八宝山  39.907267  116.235824\n",
       "4          玉泉路  39.907333  116.253033"
      ]
     },
     "execution_count": 7,
     "metadata": {},
     "output_type": "execute_result"
    }
   ],
   "source": [
    "import pandas as pd \n",
    "file = pd.read_table('C:/MAY_AI/TrainingCourse/NLP_Course/2019-07-06/homework/stationinfo.csv', sep = ',',encoding='gbk')\n",
    "file.head()"
   ]
  },
  {
   "cell_type": "code",
   "execution_count": 8,
   "metadata": {},
   "outputs": [],
   "source": [
    "station_lat_lon = {}\n",
    "for i in range(len(file)):\n",
    "    station_lat_lon[file[\"station_name\"][i]] = (file[\"lat\"][i], file[\"lon\"][i])"
   ]
  },
  {
   "cell_type": "code",
   "execution_count": 9,
   "metadata": {},
   "outputs": [],
   "source": [
    "import networkx as nx\n",
    "import matplotlib.pyplot as plt\n",
    "%matplotlib inline"
   ]
  },
  {
   "cell_type": "code",
   "execution_count": 10,
   "metadata": {},
   "outputs": [
    {
     "data": {
      "image/png": "[encoded data removed]",
      "text/plain": [
       "<Figure size 432x288 with 1 Axes>"
      ]
     },
     "metadata": {},
     "output_type": "display_data"
    }
   ],
   "source": [
    "station_graph = nx.Graph()                \n",
    "station_graph.add_nodes_from(list(station_lat_lon.keys()))   #city_graph.add_nodes_from(list(city_location.keys()))\n",
    "nx.draw(station_graph, station_lat_lon, with_labels=False, node_size=10)"
   ]
  },
  {
   "cell_type": "code",
   "execution_count": 11,
   "metadata": {},
   "outputs": [],
   "source": [
    "file1 = pd.read_table('C:/MAY_AI/TrainingCourse/NLP_Course/2019-07-06/homework/connection_info_src.csv', sep = ',',encoding='gbk',na_values = None)\n",
    "\n",
    "import math\n",
    "connection_info_src = {}\n",
    "\n",
    "for i in range(len(file1)):\n",
    "    connection_info_src[file1[\"station_name\"][i]] = [file1[\"Unnamed: 1\"][i], file1[\"Unnamed: 2\"][i], file1[\"Unnamed: 3\"][i], file1[\"Unnamed: 4\"][i], file1[\"Unnamed: 5\"][i]]"
   ]
  },
  {
   "cell_type": "code",
   "execution_count": 12,
   "metadata": {},
   "outputs": [
    {
     "data": {
      "image/png": "[encoded data removed]",
      "text/plain": [
       "<Figure size 432x288 with 1 Axes>"
      ]
     },
     "metadata": {},
     "output_type": "display_data"
    }
   ],
   "source": [
    "connection_info = {}\n",
    "\n",
    "for k,v in connection_info_src.items():\n",
    "    connection_info[k] = [x for x in v if str(x) != 'nan']\n",
    "    \n",
    "nx.draw(nx.Graph(connection_info), station_lat_lon, with_labels=False, node_size=10)"
   ]
  },
  {
   "cell_type": "markdown",
   "metadata": {},
   "source": [
    "##### 3. Build the search agent\n",
    "\n",
    "> Build the search agent based on the graph we build.\n",
    "\n",
    "for example, when you run: \n",
    "\n",
    "```python\n",
    ">>> search('奥体中心', '天安门') \n",
    "```\n",
    "you need get the result: \n",
    "\n",
    "奥体中心-> A -> B -> C -> ... -> 天安门\n",
    "\n"
   ]
  },
  {
   "cell_type": "code",
   "execution_count": 13,
   "metadata": {},
   "outputs": [],
   "source": [
    "def search(start, end):\n",
    "    pathes = [[start]] \n",
    "    passed = [start] \n",
    "\n",
    "    while pathes: \n",
    "        path = pathes.pop(0) \n",
    "        frontier = path[-1] \n",
    "        nxt = connection_info[frontier] \n",
    "\n",
    "        for station in nxt:\n",
    "            if station in passed:  \n",
    "                continue\n",
    "            else:\n",
    "                new_path = path + [station] \n",
    "                pathes.append(new_path) \n",
    "                if station == end: return new_path \n",
    "                passed.append(station)\n",
    "                \n",
    "def pretty_print(stations):\n",
    "    print(\"->\".join(stations))"
   ]
  },
  {
   "cell_type": "code",
   "execution_count": 15,
   "metadata": {},
   "outputs": [
    {
     "name": "stdout",
     "output_type": "stream",
     "text": [
      "奥体中心->北土城->安华桥->鼓楼大街->什刹海->南锣鼓巷->东四->灯市口->东单->王府井->天安门东\n"
     ]
    }
   ],
   "source": [
    "pretty_print(search(\"奥体中心\", \"天安门东\"))"
   ]
  },
  {
   "cell_type": "markdown",
   "metadata": {},
   "source": [
    "## （Optional）Create different policies for transfer system.\n"
   ]
  },
  {
   "cell_type": "markdown",
   "metadata": {},
   "source": [
    "以下部门为可选部分，请酌情完成。 并不要求全部同学完成。"
   ]
  },
  {
   "cell_type": "markdown",
   "metadata": {},
   "source": [
    "As much as you can to use the already implemented search agent. You just need to define the **is_goal()**, **get_successor()**, **strategy()** three functions. \n",
    "\n",
    "> a.\tDefine different policies for transfer system. \n",
    "\n",
    "> b.\tSuch as Shortest Path Priority（路程最短优先）, Minimum Transfer Priority(最少换乘优先), Comprehensive Priority(综合优先)\n",
    "\n",
    "> c.\tImplement Continuous transfer. Based on the Agent you implemented, please add this feature: Besides the @param start and @param destination two stations, add some more stations, we called @param by_way, it means, our path should from the start and end, but also include the  @param by_way stations. \n",
    "\n",
    "e.g \n",
    "```\n",
    "1. Input:  start=A,  destination=B, by_way=[C] \n",
    "    Output: [A, … .., C, …. B]\n",
    "2. Input: start=A, destination=B, by_way=[C, D, E]\n",
    "    Output: [A … C … E … D … B]  \n",
    "    # based on your policy, the E station could be reached firstly. \n",
    "![image.png](attachment:image.png)\n",
    "```"
   ]
  },
  {
   "cell_type": "markdown",
   "metadata": {},
   "source": [
    "##### 5.\tTest your result with commercial applications. \n",
    "\n",
    "将你的结果和高德地图或者百度地图进行比较，如果有不同，请分析原因\n"
   ]
  },
  {
   "cell_type": "markdown",
   "metadata": {},
   "source": [
    "恭喜，完成本次课程，你对常用的人工智能方法以及有一定的了解了。基于规则的，基于概率模型的，基于搜索的，基于机器学习的。 可以说，我们现在通常见到的方法都能够归属到这几类方法中。 这就是**人工智能**，并没有很难是吧？ 继续加油！"
   ]
  },
  {
   "cell_type": "markdown",
   "metadata": {},
   "source": [
    "![](https://timgsa.baidu.com/timg?image&quality=80&size=b9999_10000&sec=1562415163815&di=4b29a2a863a8285212033760f288ed7a&imgtype=0&src=http%3A%2F%2F5b0988e595225.cdn.sohucs.com%2Fimages%2F20180710%2F8704194a1d7f46a383ddc29d40c9bca5.jpeg)"
   ]
  }
 ],
 "metadata": {
  "kernelspec": {
   "display_name": "Python 3",
   "language": "python",
   "name": "python3"
  },
  "language_info": {
   "codemirror_mode": {
    "name": "ipython",
    "version": 3
   },
   "file_extension": ".py",
   "mimetype": "text/x-python",
   "name": "python",
   "nbconvert_exporter": "python",
   "pygments_lexer": "ipython3",
   "version": "3.6.5"
  }
 },
 "nbformat": 4,
 "nbformat_minor": 2
}
