{
 "cells": [
  {
   "cell_type": "code",
   "execution_count": 1,
   "metadata": {},
   "outputs": [],
   "source": [
    "from sklearn.datasets import load_boston  \n",
    "import random"
   ]
  },
  {
   "cell_type": "code",
   "execution_count": 2,
   "metadata": {},
   "outputs": [],
   "source": [
    "data = load_boston()\n",
    "X, y = data['data'], data['target']\n",
    "X_rm = X[:,5]"
   ]
  },
  {
   "cell_type": "code",
   "execution_count": 3,
   "metadata": {},
   "outputs": [],
   "source": [
    "def price(X_rm, k, b):\n",
    "    return X_rm * k + b "
   ]
  },
  {
   "cell_type": "markdown",
   "metadata": {},
   "source": [
    "## loss"
   ]
  },
  {
   "cell_type": "markdown",
   "metadata": {},
   "source": [
    "$loss = \\frac{1}{n}\\sum{|y_i - \\hat{y_i}|}$"
   ]
  },
  {
   "cell_type": "code",
   "execution_count": 4,
   "metadata": {},
   "outputs": [],
   "source": [
    "def loss(y, y_hat):\n",
    "    return sum(abs(y_i - y_hat_i) for y_i, y_hat_i in zip(list(y), list(y_hat))) / len(list(y))"
   ]
  },
  {
   "cell_type": "code",
   "execution_count": 5,
   "metadata": {},
   "outputs": [],
   "source": [
    "def partial_k(x, y, y_hat):\n",
    "    n = len(y)\n",
    "    gradient = 0\n",
    "    \n",
    "    for x_i, y_i, y_hat_i in zip(list(x), list(y), list(y_hat)):\n",
    "        gradient += (y_i - y_hat_i) * x_i\n",
    "    return -2 / n *gradient\n",
    "\n",
    "def partial_b(x, y, y_hat):\n",
    "    n = len(y)\n",
    "    gradient = 0\n",
    "    \n",
    "    for y_i, y_hat_i in zip(list(y), list(y_hat)):\n",
    "        gradient += y_i - y_hat_i\n",
    "    return -2 / n *gradient"
   ]
  },
  {
   "cell_type": "code",
   "execution_count": 6,
   "metadata": {},
   "outputs": [
    {
     "name": "stdout",
     "output_type": "stream",
     "text": [
      "When time is : 0, get best_k : 58.39735520093279 best_b : 28.75292815122802 and the loss is : 373.2261484532957\n",
      "When time is : 50, get best_k : 7.581926853523362 best_b : -22.062500196181407 and the loss is : 5.442762529408876\n",
      "When time is : 100, get best_k : 7.186395731453568 best_b : -22.458031318251205 and the loss is : 4.643921507259892\n",
      "When time is : 150, get best_k : 7.183317043078531 best_b : -22.461110006626246 and the loss is : 4.643364842678625\n",
      "When time is : 200, get best_k : 7.183293079548024 best_b : -22.461133970156766 and the loss is : 4.643360509778682\n",
      "When time is : 250, get best_k : 7.1832928930235305 best_b : -22.46113415668127 and the loss is : 4.6433604760527665\n",
      "When time is : 300, get best_k : 7.183292891571683 best_b : -22.46113415813311 and the loss is : 4.643360475790261\n",
      "When time is : 350, get best_k : 7.1832928915603835 best_b : -22.461134158144425 and the loss is : 4.643360475788215\n",
      "When time is : 400, get best_k : 7.183292891560298 best_b : -22.4611341581445 and the loss is : 4.643360475788201\n",
      "When time is : 450, get best_k : 7.183292891560298 best_b : -22.4611341581445 and the loss is : 4.643360475788201\n",
      "When time is : 500, get best_k : 7.183292891560298 best_b : -22.4611341581445 and the loss is : 4.643360475788201\n",
      "When time is : 550, get best_k : 7.183292891560298 best_b : -22.4611341581445 and the loss is : 4.643360475788201\n",
      "When time is : 600, get best_k : 7.183292891560298 best_b : -22.4611341581445 and the loss is : 4.643360475788201\n",
      "When time is : 650, get best_k : 7.183292891560298 best_b : -22.4611341581445 and the loss is : 4.643360475788201\n",
      "When time is : 700, get best_k : 7.183292891560298 best_b : -22.4611341581445 and the loss is : 4.643360475788201\n",
      "When time is : 750, get best_k : 7.183292891560298 best_b : -22.4611341581445 and the loss is : 4.643360475788201\n",
      "When time is : 800, get best_k : 7.183292891560298 best_b : -22.4611341581445 and the loss is : 4.643360475788201\n",
      "When time is : 850, get best_k : 7.183292891560298 best_b : -22.4611341581445 and the loss is : 4.643360475788201\n",
      "When time is : 900, get best_k : 7.183292891560298 best_b : -22.4611341581445 and the loss is : 4.643360475788201\n",
      "When time is : 950, get best_k : 7.183292891560298 best_b : -22.4611341581445 and the loss is : 4.643360475788201\n",
      "When time is : 1000, get best_k : 7.183292891560298 best_b : -22.4611341581445 and the loss is : 4.643360475788201\n",
      "When time is : 1050, get best_k : 7.183292891560298 best_b : -22.4611341581445 and the loss is : 4.643360475788201\n",
      "When time is : 1100, get best_k : 7.183292891560298 best_b : -22.4611341581445 and the loss is : 4.643360475788201\n",
      "When time is : 1150, get best_k : 7.183292891560298 best_b : -22.4611341581445 and the loss is : 4.643360475788201\n",
      "When time is : 1200, get best_k : 7.183292891560298 best_b : -22.4611341581445 and the loss is : 4.643360475788201\n",
      "When time is : 1250, get best_k : 7.183292891560298 best_b : -22.4611341581445 and the loss is : 4.643360475788201\n",
      "When time is : 1300, get best_k : 7.183292891560298 best_b : -22.4611341581445 and the loss is : 4.643360475788201\n",
      "When time is : 1350, get best_k : 7.183292891560298 best_b : -22.4611341581445 and the loss is : 4.643360475788201\n",
      "When time is : 1400, get best_k : 7.183292891560298 best_b : -22.4611341581445 and the loss is : 4.643360475788201\n",
      "When time is : 1450, get best_k : 7.183292891560298 best_b : -22.4611341581445 and the loss is : 4.643360475788201\n",
      "When time is : 1500, get best_k : 7.183292891560298 best_b : -22.4611341581445 and the loss is : 4.643360475788201\n",
      "When time is : 1550, get best_k : 7.183292891560298 best_b : -22.4611341581445 and the loss is : 4.643360475788201\n",
      "When time is : 1600, get best_k : 7.183292891560298 best_b : -22.4611341581445 and the loss is : 4.643360475788201\n",
      "When time is : 1650, get best_k : 7.183292891560298 best_b : -22.4611341581445 and the loss is : 4.643360475788201\n",
      "When time is : 1700, get best_k : 7.183292891560298 best_b : -22.4611341581445 and the loss is : 4.643360475788201\n",
      "When time is : 1750, get best_k : 7.183292891560298 best_b : -22.4611341581445 and the loss is : 4.643360475788201\n",
      "When time is : 1800, get best_k : 7.183292891560298 best_b : -22.4611341581445 and the loss is : 4.643360475788201\n",
      "When time is : 1850, get best_k : 7.183292891560298 best_b : -22.4611341581445 and the loss is : 4.643360475788201\n",
      "When time is : 1900, get best_k : 7.183292891560298 best_b : -22.4611341581445 and the loss is : 4.643360475788201\n",
      "When time is : 1950, get best_k : 7.183292891560298 best_b : -22.4611341581445 and the loss is : 4.643360475788201\n"
     ]
    }
   ],
   "source": [
    "tryingtime = 2000\n",
    "learningrate = 1e-03 \n",
    "min_loss = float('inf')\n",
    "\n",
    "current_k = random.random() * 200 - 100\n",
    "current_b = random.random() * 200 - 100\n",
    "\n",
    "for i in range(tryingtime):\n",
    "    price_by_k_and_b = [price(x, current_k, current_b) for x in X_rm]\n",
    "    current_loss = loss(y, price_by_k_and_b)\n",
    "    \n",
    "    if current_loss < min_loss:\n",
    "        if i % 50 == 0:\n",
    "            print('When time is : {}, get best_k : {} best_b : {} and the loss is : {}'.format(i, current_k, current_b, current_loss))\n",
    "            \n",
    "    k_gradient = partial_k(X_rm, y, price_by_k_and_b)\n",
    "    b_gradient = partial_b(X_rm, y, price_by_k_and_b)\n",
    "    current_k = current_k + (-1 * k_gradient) * learningrate\n",
    "    current_b = current_b + (-1 * k_gradient) * learningrate"
   ]
  },
  {
   "cell_type": "code",
   "execution_count": null,
   "metadata": {},
   "outputs": [],
   "source": []
  },
  {
   "cell_type": "code",
   "execution_count": null,
   "metadata": {},
   "outputs": [],
   "source": []
  }
 ],
 "metadata": {
  "kernelspec": {
   "display_name": "Python 3",
   "language": "python",
   "name": "python3"
  },
  "language_info": {
   "codemirror_mode": {
    "name": "ipython",
    "version": 3
   },
   "file_extension": ".py",
   "mimetype": "text/x-python",
   "name": "python",
   "nbconvert_exporter": "python",
   "pygments_lexer": "ipython3",
   "version": "3.6.5"
  }
 },
 "nbformat": 4,
 "nbformat_minor": 2
}
