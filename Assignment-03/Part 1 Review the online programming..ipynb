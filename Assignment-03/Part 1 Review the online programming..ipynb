{
 "cells": [
  {
   "cell_type": "code",
   "execution_count": 1,
   "metadata": {},
   "outputs": [],
   "source": [
    "from sklearn.datasets import load_boston  \n",
    "import random"
   ]
  },
  {
   "cell_type": "code",
   "execution_count": 2,
   "metadata": {},
   "outputs": [],
   "source": [
    "data = load_boston()\n",
    "X, y = data['data'], data['target']\n",
    "X_rm = X[:,5]"
   ]
  },
  {
   "cell_type": "code",
   "execution_count": 3,
   "metadata": {},
   "outputs": [],
   "source": [
    "def price(X_rm, k, b):\n",
    "    return X_rm * k + b "
   ]
  },
  {
   "cell_type": "markdown",
   "metadata": {},
   "source": [
    "## loss"
   ]
  },
  {
   "cell_type": "markdown",
   "metadata": {},
   "source": [
    "$$ loss = \\frac{1}{n}\\sum(y_i - \\hat{y_i})^2$$"
   ]
  },
  {
   "cell_type": "markdown",
   "metadata": {},
   "source": [
    "$$ \\frac{\\partial{loss}}{\\partial{k}} = -\\frac{2}{n}\\sum(y_i - \\hat{y_i})x_i$$"
   ]
  },
  {
   "cell_type": "markdown",
   "metadata": {},
   "source": [
    "$$ \\frac{\\partial{loss}}{\\partial{b}} = -\\frac{2}{n}\\sum(y_i - \\hat{y_i})$$"
   ]
  },
  {
   "cell_type": "code",
   "execution_count": 10,
   "metadata": {},
   "outputs": [],
   "source": [
    "def loss(y, y_hat):\n",
    "    return sum((y_i - y_hat_i)**2 for y_i, y_hat_i in zip(list(y), list(y_hat))) / len(list(y))"
   ]
  },
  {
   "cell_type": "code",
   "execution_count": 11,
   "metadata": {},
   "outputs": [],
   "source": [
    "def partial_k(x, y, y_hat):\n",
    "    n = len(y)\n",
    "    gradient = 0\n",
    "    \n",
    "    for x_i, y_i, y_hat_i in zip(list(x), list(y), list(y_hat)):\n",
    "        gradient += (y_i - y_hat_i) * x_i\n",
    "    return -2 / n *gradient\n",
    "\n",
    "def partial_b(x, y, y_hat):\n",
    "    n = len(y)\n",
    "    gradient = 0\n",
    "    \n",
    "    for y_i, y_hat_i in zip(list(y), list(y_hat)):\n",
    "        gradient += y_i - y_hat_i\n",
    "    return -2 / n *gradient"
   ]
  },
  {
   "cell_type": "code",
   "execution_count": 12,
   "metadata": {},
   "outputs": [
    {
     "name": "stdout",
     "output_type": "stream",
     "text": [
      "When time is : 0, get best_k : 81.79242211085648 best_b : -21.720752542697582 and the loss is : 223341.98648383963\n",
      "When time is : 50, get best_k : 17.718320557952065 best_b : -85.794854095602 and the loss is : 89.33149018267527\n",
      "When time is : 100, get best_k : 17.219588143269466 best_b : -86.2935865102846 and the loss is : 76.4350980783701\n",
      "When time is : 150, get best_k : 17.2157061688769 best_b : -86.29746848467717 and the loss is : 76.43921677624647\n",
      "When time is : 200, get best_k : 17.215675952823684 best_b : -86.29749870073043 and the loss is : 76.43925516609244\n",
      "When time is : 250, get best_k : 17.21567571763155 best_b : -86.29749893592263 and the loss is : 76.43925546529054\n",
      "When time is : 300, get best_k : 17.21567571580089 best_b : -86.2974989377533 and the loss is : 76.43925546761942\n",
      "When time is : 350, get best_k : 17.215675715786638 best_b : -86.29749893776753 and the loss is : 76.43925546763744\n",
      "When time is : 400, get best_k : 17.21567571578654 best_b : -86.29749893776759 and the loss is : 76.43925546763751\n",
      "When time is : 450, get best_k : 17.21567571578654 best_b : -86.29749893776759 and the loss is : 76.43925546763751\n",
      "When time is : 500, get best_k : 17.21567571578654 best_b : -86.29749893776759 and the loss is : 76.43925546763751\n",
      "When time is : 550, get best_k : 17.21567571578654 best_b : -86.29749893776759 and the loss is : 76.43925546763751\n",
      "When time is : 600, get best_k : 17.21567571578654 best_b : -86.29749893776759 and the loss is : 76.43925546763751\n",
      "When time is : 650, get best_k : 17.21567571578654 best_b : -86.29749893776759 and the loss is : 76.43925546763751\n",
      "When time is : 700, get best_k : 17.21567571578654 best_b : -86.29749893776759 and the loss is : 76.43925546763751\n",
      "When time is : 750, get best_k : 17.21567571578654 best_b : -86.29749893776759 and the loss is : 76.43925546763751\n",
      "When time is : 800, get best_k : 17.21567571578654 best_b : -86.29749893776759 and the loss is : 76.43925546763751\n",
      "When time is : 850, get best_k : 17.21567571578654 best_b : -86.29749893776759 and the loss is : 76.43925546763751\n",
      "When time is : 900, get best_k : 17.21567571578654 best_b : -86.29749893776759 and the loss is : 76.43925546763751\n",
      "When time is : 950, get best_k : 17.21567571578654 best_b : -86.29749893776759 and the loss is : 76.43925546763751\n",
      "When time is : 1000, get best_k : 17.21567571578654 best_b : -86.29749893776759 and the loss is : 76.43925546763751\n",
      "When time is : 1050, get best_k : 17.21567571578654 best_b : -86.29749893776759 and the loss is : 76.43925546763751\n",
      "When time is : 1100, get best_k : 17.21567571578654 best_b : -86.29749893776759 and the loss is : 76.43925546763751\n",
      "When time is : 1150, get best_k : 17.21567571578654 best_b : -86.29749893776759 and the loss is : 76.43925546763751\n",
      "When time is : 1200, get best_k : 17.21567571578654 best_b : -86.29749893776759 and the loss is : 76.43925546763751\n",
      "When time is : 1250, get best_k : 17.21567571578654 best_b : -86.29749893776759 and the loss is : 76.43925546763751\n",
      "When time is : 1300, get best_k : 17.21567571578654 best_b : -86.29749893776759 and the loss is : 76.43925546763751\n",
      "When time is : 1350, get best_k : 17.21567571578654 best_b : -86.29749893776759 and the loss is : 76.43925546763751\n",
      "When time is : 1400, get best_k : 17.21567571578654 best_b : -86.29749893776759 and the loss is : 76.43925546763751\n",
      "When time is : 1450, get best_k : 17.21567571578654 best_b : -86.29749893776759 and the loss is : 76.43925546763751\n",
      "When time is : 1500, get best_k : 17.21567571578654 best_b : -86.29749893776759 and the loss is : 76.43925546763751\n",
      "When time is : 1550, get best_k : 17.21567571578654 best_b : -86.29749893776759 and the loss is : 76.43925546763751\n",
      "When time is : 1600, get best_k : 17.21567571578654 best_b : -86.29749893776759 and the loss is : 76.43925546763751\n",
      "When time is : 1650, get best_k : 17.21567571578654 best_b : -86.29749893776759 and the loss is : 76.43925546763751\n",
      "When time is : 1700, get best_k : 17.21567571578654 best_b : -86.29749893776759 and the loss is : 76.43925546763751\n",
      "When time is : 1750, get best_k : 17.21567571578654 best_b : -86.29749893776759 and the loss is : 76.43925546763751\n",
      "When time is : 1800, get best_k : 17.21567571578654 best_b : -86.29749893776759 and the loss is : 76.43925546763751\n",
      "When time is : 1850, get best_k : 17.21567571578654 best_b : -86.29749893776759 and the loss is : 76.43925546763751\n",
      "When time is : 1900, get best_k : 17.21567571578654 best_b : -86.29749893776759 and the loss is : 76.43925546763751\n",
      "When time is : 1950, get best_k : 17.21567571578654 best_b : -86.29749893776759 and the loss is : 76.43925546763751\n"
     ]
    }
   ],
   "source": [
    "tryingtime = 2000\n",
    "learningrate = 1e-03 \n",
    "min_loss = float('inf')\n",
    "\n",
    "current_k = random.random() * 200 - 100\n",
    "current_b = random.random() * 200 - 100\n",
    "\n",
    "for i in range(tryingtime):\n",
    "    price_by_k_and_b = [price(x, current_k, current_b) for x in X_rm]\n",
    "    current_loss = loss(y, price_by_k_and_b)\n",
    "    \n",
    "    if current_loss < min_loss:\n",
    "        if i % 50 == 0:\n",
    "            print('When time is : {}, get best_k : {} best_b : {} and the loss is : {}'.format(i, current_k, current_b, current_loss))\n",
    "            \n",
    "    k_gradient = partial_k(X_rm, y, price_by_k_and_b)\n",
    "    b_gradient = partial_b(X_rm, y, price_by_k_and_b)\n",
    "    current_k = current_k + (-1 * k_gradient) * learningrate\n",
    "    current_b = current_b + (-1 * k_gradient) * learningrate\n"
   ]
  },
  {
   "cell_type": "markdown",
   "metadata": {},
   "source": [
    "## Dynamic Programming"
   ]
  },
  {
   "cell_type": "code",
   "execution_count": 1,
   "metadata": {},
   "outputs": [],
   "source": [
    "from collections import defaultdict\n",
    "from functools import wraps"
   ]
  },
  {
   "cell_type": "code",
   "execution_count": 2,
   "metadata": {},
   "outputs": [],
   "source": [
    "original_price = [1, 5, 8, 9, 10, 17, 17, 20, 24, 30, 35]\n",
    "price = defaultdict(int)\n",
    "for i, p in enumerate(original_price):\n",
    "    price[i + 1] = p"
   ]
  },
  {
   "cell_type": "code",
   "execution_count": 3,
   "metadata": {},
   "outputs": [],
   "source": [
    "def r(n):\n",
    "    return max(\n",
    "        [price[n]] + [r(i) + r (n - i) for i in range(1, n)]\n",
    "    )\n",
    "\n",
    "# max([8] + [r(1) + r(2), r(2) + r(1)])\n",
    "# max([8] + [max([1]) + max([5] + [r(1) + r(1)]), max([5] + [r(1) + r(1)]) + max([1])])    # max([1]) -> 1\n",
    "# max([8] + [1 + max([5] + [max([1]) + max([1])]), max([5] + [max([1]) + max([1])]) + 1])\n",
    "# max([8] + [1 + max([5] + [1 + 1]), max([5] + [1 + 1]) + 1])\n",
    "# max([8] + [1 + 5, 5 + 1])"
   ]
  },
  {
   "cell_type": "code",
   "execution_count": 4,
   "metadata": {},
   "outputs": [
    {
     "data": {
      "text/plain": [
       "[8]"
      ]
     },
     "execution_count": 4,
     "metadata": {},
     "output_type": "execute_result"
    }
   ],
   "source": [
    "max([8],[6,6])"
   ]
  },
  {
   "cell_type": "code",
   "execution_count": 5,
   "metadata": {},
   "outputs": [],
   "source": [
    "already_computed = defaultdict(int)\n",
    "solution = {}\n",
    "\n",
    "def get_call_time(f):\n",
    "    @wraps(f)\n",
    "    def wrap(n):\n",
    "        result = f(n)\n",
    "        already_computed[(f.__name__, n)] += 1\n",
    "        return result\n",
    "    return wrap"
   ]
  },
  {
   "cell_type": "code",
   "execution_count": 6,
   "metadata": {},
   "outputs": [],
   "source": [
    "@get_call_time\n",
    "def r(n):                               #  max([(8, 0)] + [(6, 9)]) -> (8, 0) 按第一个数字排大小的\n",
    "    max_price, max_split = max(\n",
    "        [(price[n], 0)] + [(r(i) + r (n - i), i) for i in range(1, n)], key=lambda x: x[0]\n",
    "    )\n",
    "    solution[n] = (n - max_split, max_split)\n",
    "    return max_price"
   ]
  },
  {
   "cell_type": "code",
   "execution_count": 9,
   "metadata": {},
   "outputs": [
    {
     "data": {
      "text/plain": [
       "48"
      ]
     },
     "execution_count": 9,
     "metadata": {},
     "output_type": "execute_result"
    }
   ],
   "source": [
    "r(16)"
   ]
  },
  {
   "cell_type": "code",
   "execution_count": 10,
   "metadata": {},
   "outputs": [],
   "source": [
    "def parse_solution(n):\n",
    "    left, right = solution[n]\n",
    "    if right == 0: \n",
    "        return [left]\n",
    "    return parse_solution(left) + parse_solution(right)"
   ]
  },
  {
   "cell_type": "code",
   "execution_count": 11,
   "metadata": {},
   "outputs": [
    {
     "data": {
      "text/plain": [
       "[11, 3, 2]"
      ]
     },
     "execution_count": 11,
     "metadata": {},
     "output_type": "execute_result"
    }
   ],
   "source": [
    "parse_solution(16)"
   ]
  },
  {
   "cell_type": "code",
   "execution_count": 25,
   "metadata": {},
   "outputs": [],
   "source": [
    "# 存储已计算过的值\n",
    "def memo(f):\n",
    "    @wraps(f)\n",
    "    def wrap(n):\n",
    "        if n in m_already_computed:\n",
    "            result = m_already_computed[n]\n",
    "        else:\n",
    "            result = f(n)\n",
    "            m_already_computed[n] = result\n",
    "        return result\n",
    "    return wrap\n",
    "        "
   ]
  },
  {
   "cell_type": "code",
   "execution_count": 26,
   "metadata": {},
   "outputs": [],
   "source": [
    "solution = {}\n",
    "m_already_computed = defaultdict(int)\n",
    "\n",
    "@memo \n",
    "def r(n):                               #  max([(8, 0)] + [(6, 9)]) -> (8, 0) 按第一个数字排大小的\n",
    "    max_price, max_split = max(\n",
    "        [(price[n], 0)] + [(r(i) + r (n - i), i) for i in range(1, n)], key=lambda x: x[0]\n",
    "    )\n",
    "    solution[n] = (n - max_split, max_split)\n",
    "    return max_price"
   ]
  },
  {
   "cell_type": "code",
   "execution_count": 27,
   "metadata": {},
   "outputs": [
    {
     "data": {
      "text/plain": [
       "48"
      ]
     },
     "execution_count": 27,
     "metadata": {},
     "output_type": "execute_result"
    }
   ],
   "source": [
    "r(16)"
   ]
  },
  {
   "cell_type": "code",
   "execution_count": 29,
   "metadata": {},
   "outputs": [
    {
     "data": {
      "text/plain": [
       "defaultdict(int,\n",
       "            {1: 1,\n",
       "             2: 5,\n",
       "             3: 8,\n",
       "             4: 10,\n",
       "             5: 13,\n",
       "             6: 17,\n",
       "             7: 18,\n",
       "             8: 22,\n",
       "             9: 25,\n",
       "             10: 30,\n",
       "             11: 35,\n",
       "             12: 36,\n",
       "             13: 40,\n",
       "             14: 43,\n",
       "             15: 45,\n",
       "             16: 48})"
      ]
     },
     "execution_count": 29,
     "metadata": {},
     "output_type": "execute_result"
    }
   ],
   "source": [
    "m_already_computed"
   ]
  },
  {
   "cell_type": "code",
   "execution_count": 30,
   "metadata": {},
   "outputs": [
    {
     "data": {
      "text/plain": [
       "{1: (1, 0),\n",
       " 2: (2, 0),\n",
       " 3: (3, 0),\n",
       " 4: (2, 2),\n",
       " 5: (3, 2),\n",
       " 6: (6, 0),\n",
       " 7: (6, 1),\n",
       " 8: (6, 2),\n",
       " 9: (6, 3),\n",
       " 10: (10, 0),\n",
       " 11: (11, 0),\n",
       " 12: (11, 1),\n",
       " 13: (11, 2),\n",
       " 14: (11, 3),\n",
       " 15: (13, 2),\n",
       " 16: (14, 2)}"
      ]
     },
     "execution_count": 30,
     "metadata": {},
     "output_type": "execute_result"
    }
   ],
   "source": [
    "solution"
   ]
  },
  {
   "cell_type": "code",
   "execution_count": 31,
   "metadata": {},
   "outputs": [
    {
     "data": {
      "text/plain": [
       "[11, 2, 2]"
      ]
     },
     "execution_count": 31,
     "metadata": {},
     "output_type": "execute_result"
    }
   ],
   "source": [
    "parse_solution(15)"
   ]
  },
  {
   "cell_type": "code",
   "execution_count": null,
   "metadata": {},
   "outputs": [],
   "source": []
  }
 ],
 "metadata": {
  "kernelspec": {
   "display_name": "Python 3",
   "language": "python",
   "name": "python3"
  },
  "language_info": {
   "codemirror_mode": {
    "name": "ipython",
    "version": 3
   },
   "file_extension": ".py",
   "mimetype": "text/x-python",
   "name": "python",
   "nbconvert_exporter": "python",
   "pygments_lexer": "ipython3",
   "version": "3.6.5"
  }
 },
 "nbformat": 4,
 "nbformat_minor": 2
}
